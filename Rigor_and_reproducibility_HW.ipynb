{
  "nbformat": 4,
  "nbformat_minor": 0,
  "metadata": {
    "colab": {
      "provenance": [],
      "authorship_tag": "ABX9TyMYdsO5g7PFFaCbTtB4jaxn",
      "include_colab_link": true
    },
    "kernelspec": {
      "name": "python3",
      "display_name": "Python 3"
    },
    "language_info": {
      "name": "python"
    }
  },
  "cells": [
    {
      "cell_type": "markdown",
      "metadata": {
        "id": "view-in-github",
        "colab_type": "text"
      },
      "source": [
        "<a href=\"https://colab.research.google.com/github/WSlatton/rigor-and-reproducibility-hw/blob/main/Rigor_and_reproducibility_HW.ipynb\" target=\"_parent\"><img src=\"https://colab.research.google.com/assets/colab-badge.svg\" alt=\"Open In Colab\"/></a>"
      ]
    },
    {
      "cell_type": "code",
      "execution_count": 2,
      "metadata": {
        "colab": {
          "base_uri": "https://localhost:8080/"
        },
        "id": "6bQufilPyul5",
        "outputId": "33e3ce0a-7437-47ae-a671-d90f3ba68ccf"
      },
      "outputs": [
        {
          "output_type": "stream",
          "name": "stdout",
          "text": [
            "Wednesday, November 01, 2023\n"
          ]
        }
      ],
      "source": [
        "import datetime\n",
        "\n",
        "today = datetime.date.today()\n",
        "print(today.strftime(\"%A, %B %d, %Y\"))"
      ]
    },
    {
      "cell_type": "code",
      "source": [
        "2 * 5"
      ],
      "metadata": {
        "colab": {
          "base_uri": "https://localhost:8080/"
        },
        "id": "jQXsglnvy-2F",
        "outputId": "a90cf427-d98a-4268-b3a0-a364ced8784d"
      },
      "execution_count": 3,
      "outputs": [
        {
          "output_type": "execute_result",
          "data": {
            "text/plain": [
              "10"
            ]
          },
          "metadata": {},
          "execution_count": 3
        }
      ]
    },
    {
      "cell_type": "markdown",
      "source": [
        "Publishing scientific code can improve computational reproducibility by allowing other researchers to run the same analysis pipeline on their data. It also improves transparency by allowing other researchers to inspect the pipeline you used and both understand the technical details that are not explained in the corresponding publication and look for the source of any inconsistencies if they find a bug. Using version control also helps to ensure that future researchers can use _exactly_ the same version of your pipeline used in a publication (by using the same commit) while also allowing the original researchers to iterate on their analysis code and eliminate bugs."
      ],
      "metadata": {
        "id": "RZmn9xzozAix"
      }
    }
  ]
}